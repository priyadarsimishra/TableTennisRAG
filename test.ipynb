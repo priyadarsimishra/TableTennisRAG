{
 "cells": [
  {
   "cell_type": "code",
   "execution_count": 1,
   "metadata": {},
   "outputs": [],
   "source": [
    "import cv2\n",
    "import numpy as np\n",
    "import os\n",
    "import subprocess\n"
   ]
  },
  {
   "cell_type": "code",
   "execution_count": 2,
   "metadata": {},
   "outputs": [],
   "source": [
    "def get_important_scene_times(video_path, threshold_multiplier=3.0, min_scene_length=1.0):\n",
    "    cap = cv2.VideoCapture(video_path)\n",
    "    if not cap.isOpened():\n",
    "        print(\"Error: Could not open video.\")\n",
    "        return []\n",
    "\n",
    "    fps = cap.get(cv2.CAP_PROP_FPS)\n",
    "    frame_diffs = []\n",
    "    timestamps = []\n",
    "    scene_changes = [0.0]  # Start time in seconds\n",
    "\n",
    "    ret, prev_frame = cap.read()\n",
    "    if not ret:\n",
    "        print(\"Error: Could not read the first frame.\")\n",
    "        return []\n",
    "\n",
    "    prev_gray = cv2.cvtColor(prev_frame, cv2.COLOR_BGR2GRAY)\n",
    "    frame_idx = 1\n",
    "\n",
    "    while True:\n",
    "        ret, curr_frame = cap.read()\n",
    "        if not ret:\n",
    "            break\n",
    "\n",
    "        curr_gray = cv2.cvtColor(curr_frame, cv2.COLOR_BGR2GRAY)\n",
    "        diff = cv2.absdiff(curr_gray, prev_gray)\n",
    "        diff_mean = diff.mean()\n",
    "        frame_diffs.append(diff_mean)\n",
    "\n",
    "        prev_gray = curr_gray\n",
    "        frame_idx += 1\n",
    "\n",
    "    cap.release()\n",
    "\n",
    "    # Calculate threshold\n",
    "    diff_array = np.array(frame_diffs)\n",
    "    mean_diff = diff_array.mean()\n",
    "    threshold = mean_diff * threshold_multiplier\n",
    "\n",
    "    # Detect scene changes\n",
    "    for i, diff in enumerate(frame_diffs):\n",
    "        if diff > threshold:\n",
    "            time = (i + 1) / fps\n",
    "            scene_changes.append(time)\n",
    "\n",
    "    scene_changes.append(frame_idx / fps)  # End time of the last scene\n",
    "    scene_changes = sorted(set(scene_changes))\n",
    "\n",
    "    # Identify important scenes\n",
    "    important_scenes = []\n",
    "    for i in range(len(scene_changes) - 1):\n",
    "        start_time = scene_changes[i]\n",
    "        end_time = scene_changes[i + 1]\n",
    "        scene_duration = end_time - start_time\n",
    "\n",
    "        if scene_duration >= min_scene_length:\n",
    "            important_scenes.append((start_time, end_time))\n",
    "\n",
    "    return important_scenes\n"
   ]
  },
  {
   "cell_type": "code",
   "execution_count": 3,
   "metadata": {},
   "outputs": [],
   "source": [
    "from moviepy.video.io.ffmpeg_tools import ffmpeg_extract_subclip\n",
    "\n",
    "def trim_video_moviepy(input_video, scenes, output_video):\n",
    "    from moviepy.editor import concatenate_videoclips, VideoFileClip\n",
    "\n",
    "    clips = []\n",
    "    for start, end in scenes:\n",
    "        clip = VideoFileClip(input_video).subclip(start, end)\n",
    "        clips.append(clip)\n",
    "\n",
    "    final_clip = concatenate_videoclips(clips)\n",
    "    final_clip.to_videofile(output_video, codec=\"libx264\")\n"
   ]
  },
  {
   "cell_type": "code",
   "execution_count": 4,
   "metadata": {},
   "outputs": [
    {
     "name": "stdout",
     "output_type": "stream",
     "text": [
      "Moviepy - Building video filtered_video.mp4.\n",
      "MoviePy - Writing audio in filtered_videoTEMP_MPY_wvf_snd.mp3\n"
     ]
    },
    {
     "name": "stderr",
     "output_type": "stream",
     "text": [
      "                                                                   \r"
     ]
    },
    {
     "name": "stdout",
     "output_type": "stream",
     "text": [
      "MoviePy - Done.\n",
      "Moviepy - Writing video filtered_video.mp4\n",
      "\n"
     ]
    },
    {
     "name": "stderr",
     "output_type": "stream",
     "text": [
      "                                                              \r"
     ]
    },
    {
     "name": "stdout",
     "output_type": "stream",
     "text": [
      "Moviepy - Done !\n",
      "Moviepy - video ready filtered_video.mp4\n"
     ]
    }
   ],
   "source": [
    "video_path = './shortvid.mp4'\n",
    "output_video = 'filtered_video.mp4'\n",
    "\n",
    "# Step 1: Get important scene times\n",
    "important_scenes = get_important_scene_times(video_path)\n",
    "\n",
    "# Step 2: Trim the video to keep only important scenes\n",
    "trim_video_moviepy(video_path, important_scenes, output_video)\n"
   ]
  },
  {
   "cell_type": "code",
   "execution_count": null,
   "metadata": {},
   "outputs": [],
   "source": []
  }
 ],
 "metadata": {
  "kernelspec": {
   "display_name": ".venv",
   "language": "python",
   "name": "python3"
  },
  "language_info": {
   "codemirror_mode": {
    "name": "ipython",
    "version": 3
   },
   "file_extension": ".py",
   "mimetype": "text/x-python",
   "name": "python",
   "nbconvert_exporter": "python",
   "pygments_lexer": "ipython3",
   "version": "3.11.4"
  }
 },
 "nbformat": 4,
 "nbformat_minor": 2
}
